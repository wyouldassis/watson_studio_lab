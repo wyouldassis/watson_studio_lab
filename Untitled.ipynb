{
 "cells": [
  {
   "cell_type": "code",
   "execution_count": 3,
   "id": "140874ec-700e-4447-919a-a9cb118fab16",
   "metadata": {
    "id": "140874ec-700e-4447-919a-a9cb118fab16",
    "tags": []
   },
   "outputs": [
    {
     "name": "stdout",
     "output_type": "stream",
     "text": [
      "hello world. This is notebook 1\n"
     ]
    }
   ],
   "source": [
    "print (\"hello world. This is notebook 1\")"
   ]
  },
  {
   "cell_type": "code",
   "execution_count": 1,
   "id": "cbc4e1bc-c884-4792-b195-b0a6e3fed34d",
   "metadata": {
    "id": "cbc4e1bc-c884-4792-b195-b0a6e3fed34d",
    "tags": []
   },
   "outputs": [
    {
     "name": "stdout",
     "output_type": "stream",
     "text": [
      "This notebook was changed by a collaborator\n"
     ]
    }
   ],
   "source": [
    "print (\"This notebook was changed by a collaborator\")"
   ]
  },
  {
   "cell_type": "code",
   "execution_count": null,
   "id": "ec6e24d9-855d-4240-8444-00d0cefd855d",
   "metadata": {
    "id": "ec6e24d9-855d-4240-8444-00d0cefd855d"
   },
   "outputs": [],
   "source": []
  }
 ],
 "metadata": {
  "kernelspec": {
   "display_name": "Python 3.9",
   "language": "python",
   "name": "python3"
  },
  "language_info": {
   "codemirror_mode": {
    "name": "ipython",
    "version": 3
   },
   "file_extension": ".py",
   "mimetype": "text/x-python",
   "name": "python",
   "nbconvert_exporter": "python",
   "pygments_lexer": "ipython3",
   "version": "3.9.7"
  }
 },
 "nbformat": 4,
 "nbformat_minor": 5
}
