{
 "cells": [
  {
   "cell_type": "code",
   "execution_count": 1,
   "id": "2e0026a0-cb8a-45de-a5a6-0b3edc77ac6b",
   "metadata": {
    "id": "287f1c35-b364-499f-9a8f-29b598f9a730",
    "tags": []
   },
   "outputs": [
    {
     "name": "stdout",
     "output_type": "stream",
     "text": [
      "hello world. This is notebook 2\n"
     ]
    }
   ],
   "source": [
    "print (\"hello world. This is notebook 2\")"
   ]
  },
  {
   "cell_type": "code",
   "execution_count": null,
   "id": "291f887f-084b-47f6-a008-ebc56545ecc9",
   "metadata": {
    "id": "291f887f-084b-47f6-a008-ebc56545ecc9"
   },
   "outputs": [],
   "source": []
  }
 ],
 "metadata": {
  "kernelspec": {
   "display_name": "Python 3.9",
   "language": "python",
   "name": "python3"
  },
  "language_info": {
   "codemirror_mode": {
    "name": "ipython",
    "version": 3
   },
   "file_extension": ".py",
   "mimetype": "text/x-python",
   "name": "python",
   "nbconvert_exporter": "python",
   "pygments_lexer": "ipython3",
   "version": "3.9.7"
  }
 },
 "nbformat": 4,
 "nbformat_minor": 5
}
